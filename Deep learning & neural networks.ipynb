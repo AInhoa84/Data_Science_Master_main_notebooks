{
 "cells": [
  {
   "cell_type": "markdown",
   "metadata": {},
   "source": [
    "# DEEP LEARNING"
   ]
  },
  {
   "cell_type": "code",
   "execution_count": 2,
   "metadata": {},
   "outputs": [],
   "source": [
    "#Problema de regresión lineal resuelto por una red neuronal:\n",
    "import math\n",
    "import numpy as np\n",
    "from mpl_toolkits.mplot3d import axes3d\n",
    "from matplotlib import pyplot as plt\n",
    "%matplotlib notebook"
   ]
  },
  {
   "cell_type": "code",
   "execution_count": 3,
   "metadata": {},
   "outputs": [
    {
     "data": {
      "text/plain": [
       "[<matplotlib.lines.Line2D at 0x7f29974c97f0>]"
      ]
     },
     "execution_count": 3,
     "metadata": {},
     "output_type": "execute_result"
    },
    {
     "data": {
      "image/png": "[encoded data removed]",
      "text/plain": [
       "<Figure size 432x216 with 1 Axes>"
      ]
     },
     "metadata": {
      "needs_background": "light"
     },
     "output_type": "display_data"
    }
   ],
   "source": [
    "X = np.random.uniform(0, 10, size=(150,1))\n",
    "Y = X * .85 + 1.2 +np.random.randn(X.shape[0], X.shape[1]) * .5\n",
    "fig, ax = plt.subplots(1, 1, figsize=(6,3))\n",
    "ax.scatter(X, Y, alpha=.5)\n",
    "ax.set_label('x')\n",
    "ax.set_label('y')\n",
    "ax.plot([0,10],[1.2,10*.85+1.2], 'k--',lw=3, alpha=1.)"
   ]
  },
  {
   "cell_type": "markdown",
   "metadata": {},
   "source": [
    "Nuestro objetivo es, en una regresión lineal: que nos den un valor de entrada (X), y predecir un valor de salida. Con regresión linear, necesitamos solo la pendiente de la recta y su sesgo.\n",
    "\n",
    "¿Cómo hace esto una red neuronal? (Ver apuntes cuaderno)"
   ]
  },
  {
   "cell_type": "code",
   "execution_count": 5,
   "metadata": {},
   "outputs": [],
   "source": [
    "#Vamos a programar (ver los apuntes) nuestra función que mejora a y b con un learning rate (alpha):\n",
    "a = -1. #seles da un valor inicial para que empiece a aprender desde ahí\n",
    "b = -3.\n",
    "alpha = .001 #este learning rate parece bajo, pero en realidad es bastante alto\n",
    "data = np.hstack([X,Y]) #Hstack concatena la x y la x"
   ]
  },
  {
   "cell_type": "code",
   "execution_count": 7,
   "metadata": {},
   "outputs": [
    {
     "name": "stdout",
     "output_type": "stream",
     "text": [
      "0.8365909362465573 1.3355208473780986\n"
     ]
    }
   ],
   "source": [
    "#Una época es pasar todo el Dataset un número de veces que elijamos:\n",
    "n_epochs = 100\n",
    "a_l = []\n",
    "b_l = []\n",
    "\n",
    "for epoch in range(n_epochs):\n",
    "    np.random.shuffle(data) #se desordena el dataset en cada época para que la red no aprenda patrones de movimiento\n",
    "    for x, y in data:\n",
    "        #Compute y_hat:\n",
    "        y_hat = a * x +b\n",
    "        #Compute updates:\n",
    "        b_prime = b - alpha *2 * (y_hat - y) * 1\n",
    "        a_prime = a - alpha *2 * (y_hat - y) * x\n",
    "        #Update weights:\n",
    "        b = b_prime\n",
    "        a = a_prime\n",
    "        \n",
    "    b_l.append(b)\n",
    "    a_l.append(a)\n",
    "    \n",
    "print(a, b)"
   ]
  },
  {
   "cell_type": "markdown",
   "metadata": {},
   "source": [
    "Si probamos a modificar el alpha y el n_epochs variará el resultado. Bajando el learning rate a 0.0005, parece que converge la red mucho mejor hacia los valores de a y b reales."
   ]
  },
  {
   "cell_type": "code",
   "execution_count": null,
   "metadata": {},
   "outputs": [],
   "source": []
  },
  {
   "cell_type": "code",
   "execution_count": null,
   "metadata": {},
   "outputs": [],
   "source": []
  },
  {
   "cell_type": "code",
   "execution_count": null,
   "metadata": {},
   "outputs": [],
   "source": []
  },
  {
   "cell_type": "code",
   "execution_count": null,
   "metadata": {},
   "outputs": [],
   "source": []
  }
 ],
 "metadata": {
  "kernelspec": {
   "display_name": "Python 3",
   "language": "python",
   "name": "python3"
  },
  "language_info": {
   "codemirror_mode": {
    "name": "ipython",
    "version": 3
   },
   "file_extension": ".py",
   "mimetype": "text/x-python",
   "name": "python",
   "nbconvert_exporter": "python",
   "pygments_lexer": "ipython3",
   "version": "3.7.3"
  }
 },
 "nbformat": 4,
 "nbformat_minor": 2
}
