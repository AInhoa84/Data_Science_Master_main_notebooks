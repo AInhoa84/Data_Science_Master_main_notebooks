{
 "cells": [
  {
   "cell_type": "code",
   "execution_count": 1,
   "metadata": {},
   "outputs": [],
   "source": [
    "import numpy as np\n",
    "import pandas as pd\n",
    "import scipy.stats as sts"
   ]
  },
  {
   "cell_type": "markdown",
   "metadata": {},
   "source": [
    "Vamos a crear un dataset con puntuaciones de usuarios:"
   ]
  },
  {
   "cell_type": "code",
   "execution_count": 2,
   "metadata": {},
   "outputs": [
    {
     "data": {
      "text/html": [
       "<div>\n",
       "<style scoped>\n",
       "    .dataframe tbody tr th:only-of-type {\n",
       "        vertical-align: middle;\n",
       "    }\n",
       "\n",
       "    .dataframe tbody tr th {\n",
       "        vertical-align: top;\n",
       "    }\n",
       "\n",
       "    .dataframe thead th {\n",
       "        text-align: right;\n",
       "    }\n",
       "</style>\n",
       "<table border=\"1\" class=\"dataframe\">\n",
       "  <thead>\n",
       "    <tr style=\"text-align: right;\">\n",
       "      <th></th>\n",
       "      <th>a</th>\n",
       "      <th>b</th>\n",
       "      <th>c</th>\n",
       "      <th>d</th>\n",
       "      <th>e</th>\n",
       "      <th>f</th>\n",
       "    </tr>\n",
       "    <tr>\n",
       "      <th>item</th>\n",
       "      <th></th>\n",
       "      <th></th>\n",
       "      <th></th>\n",
       "      <th></th>\n",
       "      <th></th>\n",
       "      <th></th>\n",
       "    </tr>\n",
       "  </thead>\n",
       "  <tbody>\n",
       "    <tr>\n",
       "      <th>manzana</th>\n",
       "      <td>5</td>\n",
       "      <td>4</td>\n",
       "      <td>4</td>\n",
       "      <td>1</td>\n",
       "      <td>5</td>\n",
       "      <td>5</td>\n",
       "    </tr>\n",
       "    <tr>\n",
       "      <th>sandia</th>\n",
       "      <td>5</td>\n",
       "      <td>3</td>\n",
       "      <td>3</td>\n",
       "      <td>2</td>\n",
       "      <td>5</td>\n",
       "      <td>5</td>\n",
       "    </tr>\n",
       "    <tr>\n",
       "      <th>pera</th>\n",
       "      <td>0</td>\n",
       "      <td>0</td>\n",
       "      <td>3</td>\n",
       "      <td>1</td>\n",
       "      <td>5</td>\n",
       "      <td>0</td>\n",
       "    </tr>\n",
       "    <tr>\n",
       "      <th>pizza</th>\n",
       "      <td>0</td>\n",
       "      <td>5</td>\n",
       "      <td>0</td>\n",
       "      <td>5</td>\n",
       "      <td>0</td>\n",
       "      <td>0</td>\n",
       "    </tr>\n",
       "    <tr>\n",
       "      <th>perrito</th>\n",
       "      <td>0</td>\n",
       "      <td>4</td>\n",
       "      <td>0</td>\n",
       "      <td>5</td>\n",
       "      <td>0</td>\n",
       "      <td>0</td>\n",
       "    </tr>\n",
       "    <tr>\n",
       "      <th>hamburguesa</th>\n",
       "      <td>0</td>\n",
       "      <td>4</td>\n",
       "      <td>0</td>\n",
       "      <td>5</td>\n",
       "      <td>0</td>\n",
       "      <td>0</td>\n",
       "    </tr>\n",
       "    <tr>\n",
       "      <th>ensalada</th>\n",
       "      <td>4</td>\n",
       "      <td>0</td>\n",
       "      <td>3</td>\n",
       "      <td>0</td>\n",
       "      <td>4</td>\n",
       "      <td>4</td>\n",
       "    </tr>\n",
       "    <tr>\n",
       "      <th>hummus</th>\n",
       "      <td>0</td>\n",
       "      <td>0</td>\n",
       "      <td>4</td>\n",
       "      <td>2</td>\n",
       "      <td>5</td>\n",
       "      <td>5</td>\n",
       "    </tr>\n",
       "    <tr>\n",
       "      <th>chuleton</th>\n",
       "      <td>0</td>\n",
       "      <td>4</td>\n",
       "      <td>2</td>\n",
       "      <td>4</td>\n",
       "      <td>0</td>\n",
       "      <td>0</td>\n",
       "    </tr>\n",
       "    <tr>\n",
       "      <th>longaniza</th>\n",
       "      <td>0</td>\n",
       "      <td>4</td>\n",
       "      <td>0</td>\n",
       "      <td>3</td>\n",
       "      <td>0</td>\n",
       "      <td>0</td>\n",
       "    </tr>\n",
       "    <tr>\n",
       "      <th>lubina</th>\n",
       "      <td>0</td>\n",
       "      <td>0</td>\n",
       "      <td>2</td>\n",
       "      <td>0</td>\n",
       "      <td>0</td>\n",
       "      <td>0</td>\n",
       "    </tr>\n",
       "  </tbody>\n",
       "</table>\n",
       "</div>"
      ],
      "text/plain": [
       "             a  b  c  d  e  f\n",
       "item                         \n",
       "manzana      5  4  4  1  5  5\n",
       "sandia       5  3  3  2  5  5\n",
       "pera         0  0  3  1  5  0\n",
       "pizza        0  5  0  5  0  0\n",
       "perrito      0  4  0  5  0  0\n",
       "hamburguesa  0  4  0  5  0  0\n",
       "ensalada     4  0  3  0  4  4\n",
       "hummus       0  0  4  2  5  5\n",
       "chuleton     0  4  2  4  0  0\n",
       "longaniza    0  4  0  3  0  0\n",
       "lubina       0  0  2  0  0  0"
      ]
     },
     "execution_count": 2,
     "metadata": {},
     "output_type": "execute_result"
    }
   ],
   "source": [
    "df = pd.DataFrame({'item': ['manzana', 'sandia', 'pera', 'pizza', 'perrito', 'hamburguesa',\n",
    "                            'ensalada', 'hummus', 'chuleton', 'longaniza', 'lubina'],\n",
    "                   'a': [5, 5, 0, 0, 0, 0, 4, 0, 0, 0, 0],\n",
    "                   'b': [4, 3, 0, 5, 4, 4, 0, 0, 4, 4, 0],\n",
    "                   'c': [4, 3, 3, 0, 0, 0, 3, 4, 2, 0, 2],\n",
    "                   'd': [1, 2, 1, 5, 5, 5, 0, 2, 4, 3, 0],\n",
    "                   'e': [5, 5, 5, 0, 0, 0, 4, 5, 0, 0, 0],\n",
    "                   'f': [5, 5, 0, 0, 0, 0, 4, 5, 0, 0, 0]})\n",
    "df.set_index('item', inplace=True)\n",
    "df"
   ]
  },
  {
   "cell_type": "markdown",
   "metadata": {},
   "source": [
    "Y ahora otro que indica si el usuario compró o no el producto:"
   ]
  },
  {
   "cell_type": "code",
   "execution_count": 3,
   "metadata": {},
   "outputs": [
    {
     "data": {
      "text/html": [
       "<div>\n",
       "<style scoped>\n",
       "    .dataframe tbody tr th:only-of-type {\n",
       "        vertical-align: middle;\n",
       "    }\n",
       "\n",
       "    .dataframe tbody tr th {\n",
       "        vertical-align: top;\n",
       "    }\n",
       "\n",
       "    .dataframe thead th {\n",
       "        text-align: right;\n",
       "    }\n",
       "</style>\n",
       "<table border=\"1\" class=\"dataframe\">\n",
       "  <thead>\n",
       "    <tr style=\"text-align: right;\">\n",
       "      <th></th>\n",
       "      <th>a</th>\n",
       "      <th>b</th>\n",
       "      <th>c</th>\n",
       "      <th>d</th>\n",
       "      <th>e</th>\n",
       "      <th>f</th>\n",
       "    </tr>\n",
       "    <tr>\n",
       "      <th>item</th>\n",
       "      <th></th>\n",
       "      <th></th>\n",
       "      <th></th>\n",
       "      <th></th>\n",
       "      <th></th>\n",
       "      <th></th>\n",
       "    </tr>\n",
       "  </thead>\n",
       "  <tbody>\n",
       "    <tr>\n",
       "      <th>manzana</th>\n",
       "      <td>1</td>\n",
       "      <td>1</td>\n",
       "      <td>1</td>\n",
       "      <td>1</td>\n",
       "      <td>1</td>\n",
       "      <td>1</td>\n",
       "    </tr>\n",
       "    <tr>\n",
       "      <th>sandia</th>\n",
       "      <td>1</td>\n",
       "      <td>1</td>\n",
       "      <td>1</td>\n",
       "      <td>1</td>\n",
       "      <td>1</td>\n",
       "      <td>1</td>\n",
       "    </tr>\n",
       "    <tr>\n",
       "      <th>pera</th>\n",
       "      <td>0</td>\n",
       "      <td>0</td>\n",
       "      <td>1</td>\n",
       "      <td>1</td>\n",
       "      <td>1</td>\n",
       "      <td>0</td>\n",
       "    </tr>\n",
       "    <tr>\n",
       "      <th>pizza</th>\n",
       "      <td>0</td>\n",
       "      <td>1</td>\n",
       "      <td>0</td>\n",
       "      <td>1</td>\n",
       "      <td>0</td>\n",
       "      <td>0</td>\n",
       "    </tr>\n",
       "    <tr>\n",
       "      <th>perrito</th>\n",
       "      <td>0</td>\n",
       "      <td>1</td>\n",
       "      <td>0</td>\n",
       "      <td>1</td>\n",
       "      <td>0</td>\n",
       "      <td>0</td>\n",
       "    </tr>\n",
       "    <tr>\n",
       "      <th>hamburguesa</th>\n",
       "      <td>0</td>\n",
       "      <td>1</td>\n",
       "      <td>0</td>\n",
       "      <td>1</td>\n",
       "      <td>0</td>\n",
       "      <td>0</td>\n",
       "    </tr>\n",
       "    <tr>\n",
       "      <th>ensalada</th>\n",
       "      <td>1</td>\n",
       "      <td>0</td>\n",
       "      <td>1</td>\n",
       "      <td>0</td>\n",
       "      <td>1</td>\n",
       "      <td>1</td>\n",
       "    </tr>\n",
       "    <tr>\n",
       "      <th>hummus</th>\n",
       "      <td>0</td>\n",
       "      <td>0</td>\n",
       "      <td>1</td>\n",
       "      <td>1</td>\n",
       "      <td>1</td>\n",
       "      <td>1</td>\n",
       "    </tr>\n",
       "    <tr>\n",
       "      <th>chuleton</th>\n",
       "      <td>0</td>\n",
       "      <td>1</td>\n",
       "      <td>1</td>\n",
       "      <td>1</td>\n",
       "      <td>0</td>\n",
       "      <td>0</td>\n",
       "    </tr>\n",
       "    <tr>\n",
       "      <th>longaniza</th>\n",
       "      <td>0</td>\n",
       "      <td>1</td>\n",
       "      <td>0</td>\n",
       "      <td>1</td>\n",
       "      <td>0</td>\n",
       "      <td>0</td>\n",
       "    </tr>\n",
       "    <tr>\n",
       "      <th>lubina</th>\n",
       "      <td>0</td>\n",
       "      <td>0</td>\n",
       "      <td>1</td>\n",
       "      <td>0</td>\n",
       "      <td>0</td>\n",
       "      <td>0</td>\n",
       "    </tr>\n",
       "  </tbody>\n",
       "</table>\n",
       "</div>"
      ],
      "text/plain": [
       "             a  b  c  d  e  f\n",
       "item                         \n",
       "manzana      1  1  1  1  1  1\n",
       "sandia       1  1  1  1  1  1\n",
       "pera         0  0  1  1  1  0\n",
       "pizza        0  1  0  1  0  0\n",
       "perrito      0  1  0  1  0  0\n",
       "hamburguesa  0  1  0  1  0  0\n",
       "ensalada     1  0  1  0  1  1\n",
       "hummus       0  0  1  1  1  1\n",
       "chuleton     0  1  1  1  0  0\n",
       "longaniza    0  1  0  1  0  0\n",
       "lubina       0  0  1  0  0  0"
      ]
     },
     "execution_count": 3,
     "metadata": {},
     "output_type": "execute_result"
    }
   ],
   "source": [
    "df_bin = (df >0).astype(int)\n",
    "df_bin"
   ]
  },
  {
   "cell_type": "markdown",
   "metadata": {},
   "source": [
    "Para medir la afinidad entre usuarios y así poder recomendar, se utilizan los conjuntos matemáticos y sus INTERSECCIONES"
   ]
  },
  {
   "cell_type": "code",
   "execution_count": 4,
   "metadata": {},
   "outputs": [
    {
     "data": {
      "text/plain": [
       "{2, 4}"
      ]
     },
     "execution_count": 4,
     "metadata": {},
     "output_type": "execute_result"
    }
   ],
   "source": [
    "#Conjuntos en Python:\n",
    "A = set([1, 2, 4])\n",
    "B = set([2, 4, 6])\n",
    "A.intersection(B)"
   ]
  },
  {
   "cell_type": "code",
   "execution_count": 5,
   "metadata": {},
   "outputs": [
    {
     "data": {
      "text/plain": [
       "{1, 2, 4, 6}"
      ]
     },
     "execution_count": 5,
     "metadata": {},
     "output_type": "execute_result"
    }
   ],
   "source": [
    "A.union(B)"
   ]
  },
  {
   "cell_type": "code",
   "execution_count": 6,
   "metadata": {},
   "outputs": [
    {
     "data": {
      "text/plain": [
       "2"
      ]
     },
     "execution_count": 6,
     "metadata": {},
     "output_type": "execute_result"
    }
   ],
   "source": [
    "#Cardinalidad: \n",
    "len(A.intersection(B))"
   ]
  },
  {
   "cell_type": "markdown",
   "metadata": {},
   "source": [
    "¿Qué es lo que hace a dos usuarios iguales o similares y otros muy distintos? Similitud de Jaccard (ver notas cuaderno)"
   ]
  },
  {
   "cell_type": "code",
   "execution_count": 7,
   "metadata": {},
   "outputs": [],
   "source": [
    "#Hacemos una función para la similitud de Jaccard:\n",
    "\n",
    "jaccard = lambda a, b: len(a.intersection(b)) / len(a.union(b))"
   ]
  },
  {
   "cell_type": "code",
   "execution_count": 8,
   "metadata": {},
   "outputs": [
    {
     "data": {
      "text/plain": [
       "0.5"
      ]
     },
     "execution_count": 8,
     "metadata": {},
     "output_type": "execute_result"
    }
   ],
   "source": [
    "jaccard(set([1,2,3]), set([1,3,4]))"
   ]
  },
  {
   "cell_type": "code",
   "execution_count": 9,
   "metadata": {},
   "outputs": [
    {
     "data": {
      "text/plain": [
       "1.0"
      ]
     },
     "execution_count": 9,
     "metadata": {},
     "output_type": "execute_result"
    }
   ],
   "source": [
    "jaccard(set([1,2,3]), set([1,3,2]))"
   ]
  },
  {
   "cell_type": "code",
   "execution_count": 11,
   "metadata": {},
   "outputs": [
    {
     "data": {
      "text/plain": [
       "{'ensalada', 'manzana', 'sandia'}"
      ]
     },
     "execution_count": 11,
     "metadata": {},
     "output_type": "execute_result"
    }
   ],
   "source": [
    "#Creamos conjuntos con los alimentos que ha comprado el usuario a:\n",
    "set(df_bin[df_bin['a'] >0].index)"
   ]
  },
  {
   "cell_type": "code",
   "execution_count": 14,
   "metadata": {},
   "outputs": [
    {
     "name": "stdout",
     "output_type": "stream",
     "text": [
      "sim(a, b) = 0.25\n",
      "sim(a, c) = 0.42857142857142855\n",
      "sim(a, d) = 0.2\n",
      "sim(a, e) = 0.6\n",
      "sim(a, f) = 0.75\n",
      "sim(b, a) = 0.25\n",
      "sim(b, c) = 0.2727272727272727\n",
      "sim(b, d) = 0.7777777777777778\n",
      "sim(b, e) = 0.2\n",
      "sim(b, f) = 0.2222222222222222\n",
      "sim(c, a) = 0.42857142857142855\n",
      "sim(c, b) = 0.2727272727272727\n",
      "sim(c, d) = 0.45454545454545453\n",
      "sim(c, e) = 0.7142857142857143\n",
      "sim(c, f) = 0.5714285714285714\n",
      "sim(d, a) = 0.2\n",
      "sim(d, b) = 0.7777777777777778\n",
      "sim(d, c) = 0.45454545454545453\n",
      "sim(d, e) = 0.4\n",
      "sim(d, f) = 0.3\n",
      "sim(e, a) = 0.6\n",
      "sim(e, b) = 0.2\n",
      "sim(e, c) = 0.7142857142857143\n",
      "sim(e, d) = 0.4\n",
      "sim(e, f) = 0.8\n",
      "sim(f, a) = 0.75\n",
      "sim(f, b) = 0.2222222222222222\n",
      "sim(f, c) = 0.5714285714285714\n",
      "sim(f, d) = 0.3\n",
      "sim(f, e) = 0.8\n"
     ]
    }
   ],
   "source": [
    "#Hallamos las distancias entre un usuario y todos los demás (distancia de Jaccard):\n",
    "for u0 in df_bin.columns:\n",
    "    for u1 in df_bin.columns:\n",
    "        if u0 != u1:\n",
    "            items0 = set(df_bin[df_bin[u0] > 0].index)\n",
    "            items1 = set(df_bin[df_bin[u1] > 0].index)\n",
    "            print('sim({}, {}) = {}' .format(u0,u1,jaccard(items0,items1)))"
   ]
  },
  {
   "cell_type": "markdown",
   "metadata": {},
   "source": [
    "Vamos a escoger a los K-vecinos más parecidos a mi, y en base a lo que hayan comprado ellos, me recomendaré lo que yo todavía no haya consumido."
   ]
  },
  {
   "cell_type": "code",
   "execution_count": 15,
   "metadata": {},
   "outputs": [
    {
     "name": "stdout",
     "output_type": "stream",
     "text": [
      "sim(a, b) = 0.25\n",
      "sim(a, c) = 0.42857142857142855\n",
      "sim(a, d) = 0.2\n",
      "sim(a, e) = 0.6\n",
      "sim(a, f) = 0.75\n"
     ]
    }
   ],
   "source": [
    "u0 = 'a'\n",
    "neighbors = []\n",
    "\n",
    "for u1 in df_bin.columns:\n",
    "    if u0 != u1:\n",
    "        items0 = set(df_bin[df_bin[u0] > 0].index)\n",
    "        items1 = set(df_bin[df_bin[u1] > 0].index)\n",
    "        print('sim({}, {}) = {}' .format(u0,u1,jaccard(items0,items1)))\n",
    "        neighbors.append((u1, jaccard(items0, items1)))"
   ]
  },
  {
   "cell_type": "code",
   "execution_count": 16,
   "metadata": {},
   "outputs": [
    {
     "data": {
      "text/plain": [
       "[('b', 0.25), ('c', 0.42857142857142855), ('d', 0.2), ('e', 0.6), ('f', 0.75)]"
      ]
     },
     "execution_count": 16,
     "metadata": {},
     "output_type": "execute_result"
    }
   ],
   "source": [
    "neighbors"
   ]
  },
  {
   "cell_type": "code",
   "execution_count": 20,
   "metadata": {},
   "outputs": [],
   "source": [
    "top = sorted(neighbors, key=lambda x: -x[1])[:2]"
   ]
  },
  {
   "cell_type": "code",
   "execution_count": 21,
   "metadata": {},
   "outputs": [
    {
     "data": {
      "text/plain": [
       "[('f', 0.75), ('e', 0.6)]"
      ]
     },
     "execution_count": 21,
     "metadata": {},
     "output_type": "execute_result"
    }
   ],
   "source": [
    "top"
   ]
  },
  {
   "cell_type": "code",
   "execution_count": 23,
   "metadata": {},
   "outputs": [],
   "source": [
    "#item -> score\n",
    "recommendations = {}\n",
    "\n",
    "for neighbor, similarity in top:\n",
    "    for item in df_bin[df_bin[neighbor] > 0].index:\n",
    "        if item not in set(df_bin[df_bin['a'] > 0].index):\n",
    "            if item in recommendations:\n",
    "                recommendations[item] +=similarity\n",
    "            else:\n",
    "                recommendations[item] = similarity"
   ]
  },
  {
   "cell_type": "code",
   "execution_count": 24,
   "metadata": {},
   "outputs": [
    {
     "data": {
      "text/plain": [
       "{'hummus': 1.35, 'pera': 0.6}"
      ]
     },
     "execution_count": 24,
     "metadata": {},
     "output_type": "execute_result"
    }
   ],
   "source": [
    "recommendations"
   ]
  },
  {
   "cell_type": "markdown",
   "metadata": {},
   "source": [
    "Para el caso de las valoraciones (ratings), utilizaremos mejor las correlaciones de Pearson:"
   ]
  },
  {
   "cell_type": "code",
   "execution_count": 26,
   "metadata": {},
   "outputs": [
    {
     "name": "stdout",
     "output_type": "stream",
     "text": [
      "a b (-0.014025268244765073, 0.9673537305875948)\n",
      "a c (0.5630164352612619, 0.07133112524015639)\n",
      "a d (-0.47773066916197693, 0.13724307333312027)\n",
      "a e (0.6402913757205406, 0.033822514649123954)\n",
      "a f (0.789823242704962, 0.0038279681529224444)\n"
     ]
    }
   ],
   "source": [
    "u0 = 'a'\n",
    "for u1 in df.columns:\n",
    "    if u0 != u1:\n",
    "        print(u0, u1, sts.pearsonr(df[u0],df[u1]))"
   ]
  },
  {
   "cell_type": "markdown",
   "metadata": {},
   "source": [
    "El coeficiente de correlación es el que aparece primero, y el p-valor es el segundo (éste hay que minimizarlo).\n",
    "Los más similares son, por tanto, a y f."
   ]
  },
  {
   "cell_type": "code",
   "execution_count": 27,
   "metadata": {},
   "outputs": [
    {
     "data": {
      "text/plain": [
       "'/home/ainhoa/Master/Jupyter notebooks Python'"
      ]
     },
     "execution_count": 27,
     "metadata": {},
     "output_type": "execute_result"
    }
   ],
   "source": [
    "%pwd"
   ]
  },
  {
   "cell_type": "code",
   "execution_count": null,
   "metadata": {},
   "outputs": [],
   "source": []
  },
  {
   "cell_type": "code",
   "execution_count": null,
   "metadata": {},
   "outputs": [],
   "source": []
  },
  {
   "cell_type": "code",
   "execution_count": null,
   "metadata": {},
   "outputs": [],
   "source": []
  },
  {
   "cell_type": "code",
   "execution_count": null,
   "metadata": {},
   "outputs": [],
   "source": []
  },
  {
   "cell_type": "code",
   "execution_count": null,
   "metadata": {},
   "outputs": [],
   "source": []
  },
  {
   "cell_type": "code",
   "execution_count": null,
   "metadata": {},
   "outputs": [],
   "source": []
  },
  {
   "cell_type": "code",
   "execution_count": null,
   "metadata": {},
   "outputs": [],
   "source": []
  }
 ],
 "metadata": {
  "kernelspec": {
   "display_name": "Python 3",
   "language": "python",
   "name": "python3"
  },
  "language_info": {
   "codemirror_mode": {
    "name": "ipython",
    "version": 3
   },
   "file_extension": ".py",
   "mimetype": "text/x-python",
   "name": "python",
   "nbconvert_exporter": "python",
   "pygments_lexer": "ipython3",
   "version": "3.7.1"
  }
 },
 "nbformat": 4,
 "nbformat_minor": 2
}
