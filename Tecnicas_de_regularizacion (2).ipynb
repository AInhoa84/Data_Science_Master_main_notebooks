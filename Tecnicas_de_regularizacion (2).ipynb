{
 "cells": [
  {
   "cell_type": "code",
   "execution_count": 1,
   "metadata": {},
   "outputs": [],
   "source": [
    "import matplotlib\n",
    "import matplotlib.pyplot as plt\n",
    "import numpy as np\n",
    "import pandas as pd\n",
    "from sklearn import datasets\n",
    "\n",
    "from sklearn.model_selection import train_test_split\n",
    "from sklearn.metrics import mean_squared_error\n",
    "%matplotlib inline"
   ]
  },
  {
   "cell_type": "code",
   "execution_count": 2,
   "metadata": {},
   "outputs": [],
   "source": [
    "matplotlib.rcParams['figure.figsize'] = [20, 10]"
   ]
  },
  {
   "cell_type": "markdown",
   "metadata": {},
   "source": [
    "Vamos a aplicar regularización $l_2$  y regularization $l_1$ usando el siguiente ejemplo de una competición de  <kaggle.com> llamado __House Prices: Advanced Regression Techniques__, ver <https://www.kaggle.com/c/house-prices-advanced-regression-techniques>. \n",
    "\n",
    "Por favor baja el dataset `train.cvs`. "
   ]
  },
  {
   "cell_type": "code",
   "execution_count": 4,
   "metadata": {},
   "outputs": [
    {
     "data": {
      "text/plain": [
       "array(['Id', 'MSSubClass', 'MSZoning', 'LotFrontage', 'LotArea', 'Street',\n",
       "       'Alley', 'LotShape', 'LandContour', 'Utilities', 'LotConfig',\n",
       "       'LandSlope', 'Neighborhood', 'Condition1', 'Condition2',\n",
       "       'BldgType', 'HouseStyle', 'OverallQual', 'OverallCond',\n",
       "       'YearBuilt', 'YearRemodAdd', 'RoofStyle', 'RoofMatl',\n",
       "       'Exterior1st', 'Exterior2nd', 'MasVnrType', 'MasVnrArea',\n",
       "       'ExterQual', 'ExterCond', 'Foundation', 'BsmtQual', 'BsmtCond',\n",
       "       'BsmtExposure', 'BsmtFinType1', 'BsmtFinSF1', 'BsmtFinType2',\n",
       "       'BsmtFinSF2', 'BsmtUnfSF', 'TotalBsmtSF', 'Heating', 'HeatingQC',\n",
       "       'CentralAir', 'Electrical', '1stFlrSF', '2ndFlrSF', 'LowQualFinSF',\n",
       "       'GrLivArea', 'BsmtFullBath', 'BsmtHalfBath', 'FullBath',\n",
       "       'HalfBath', 'BedroomAbvGr', 'KitchenAbvGr', 'KitchenQual',\n",
       "       'TotRmsAbvGrd', 'Functional', 'Fireplaces', 'FireplaceQu',\n",
       "       'GarageType', 'GarageYrBlt', 'GarageFinish', 'GarageCars',\n",
       "       'GarageArea', 'GarageQual', 'GarageCond', 'PavedDrive',\n",
       "       'WoodDeckSF', 'OpenPorchSF', 'EnclosedPorch', '3SsnPorch',\n",
       "       'ScreenPorch', 'PoolArea', 'PoolQC', 'Fence', 'MiscFeature',\n",
       "       'MiscVal', 'MoSold', 'YrSold', 'SaleType', 'SaleCondition',\n",
       "       'SalePrice'], dtype=object)"
      ]
     },
     "execution_count": 4,
     "metadata": {},
     "output_type": "execute_result"
    }
   ],
   "source": [
    "path = \"/home/ainhoa/Master/Datasets/house_train.csv\"\n",
    "houses = pd.read_csv(path)\n",
    "houses.columns.values"
   ]
  },
  {
   "cell_type": "markdown",
   "metadata": {},
   "source": [
    "### Seleccionamos para evitar complejidad las columnas numericas din elementos NAs"
   ]
  },
  {
   "cell_type": "code",
   "execution_count": 5,
   "metadata": {},
   "outputs": [],
   "source": [
    "numeric_columns = houses.select_dtypes(include=[np.number]).columns\n",
    "all_non_numeric_columns = houses.select_dtypes(exclude=[np.number]).columns"
   ]
  },
  {
   "cell_type": "code",
   "execution_count": 6,
   "metadata": {},
   "outputs": [],
   "source": [
    "Xy = houses[numeric_columns]\n",
    "target_col = \"SalePrice\""
   ]
  },
  {
   "cell_type": "markdown",
   "metadata": {},
   "source": [
    "Borrando las columnas con Nas values"
   ]
  },
  {
   "cell_type": "code",
   "execution_count": 7,
   "metadata": {},
   "outputs": [
    {
     "name": "stdout",
     "output_type": "stream",
     "text": [
      "LotFrontage 259\n",
      "MasVnrArea 8\n",
      "GarageYrBlt 81\n"
     ]
    }
   ],
   "source": [
    "cols_with_na = []\n",
    "for col in Xy.columns.values:\n",
    "    nas = sum(Xy[col].isna())\n",
    "    if nas > 0:\n",
    "        cols_with_na.append(col)\n",
    "        print(col, sum(Xy[col].isna()))\n",
    "        \n",
    "Xy = Xy.drop(cols_with_na, axis=1)"
   ]
  },
  {
   "cell_type": "markdown",
   "metadata": {},
   "source": [
    "Hacemos separación de datos de entrenamiento, test y validación:"
   ]
  },
  {
   "cell_type": "code",
   "execution_count": 8,
   "metadata": {},
   "outputs": [],
   "source": [
    "X = Xy.drop(target_col, axis=1)\n",
    "y = Xy[target_col]\n",
    "\n",
    "X_train_dev, X_test, y_train_dev, y_test = train_test_split(X, y, random_state=666, test_size=0.2)\n",
    "X_train, X_dev, y_train, y_dev = train_test_split(X_train_dev, y_train_dev, random_state=667, test_size=0.25)"
   ]
  },
  {
   "cell_type": "markdown",
   "metadata": {},
   "source": [
    "## Método 1: Simple regresión lineal"
   ]
  },
  {
   "cell_type": "code",
   "execution_count": 9,
   "metadata": {},
   "outputs": [
    {
     "name": "stdout",
     "output_type": "stream",
     "text": [
      "34461.6971629451\n"
     ]
    }
   ],
   "source": [
    "from sklearn.linear_model import LinearRegression\n",
    "\n",
    "reg = LinearRegression()\n",
    "reg.fit(X_train, y_train)\n",
    "y_dev_hat = reg.predict(X_dev)\n",
    "print(np.sqrt(mean_squared_error(y_dev, y_dev_hat)))"
   ]
  },
  {
   "cell_type": "markdown",
   "metadata": {},
   "source": [
    "## Método 2: Regresiónn (l2-regularización)\n",
    "\n",
    "Dado el modeo lineal: \n",
    "\n",
    "\n",
    "$$\\hat{y} = a_1x_1 + \\ldots + a_nx_n + b$$\n",
    "\n",
    "\n",
    "\n",
    "Para regularización $l_2$, la función objetivo es :\n",
    "\n",
    "$$l(\\hat{Y}) = \\frac{1}{N}\\sum_i^N \\left(y_i - \\hat{y}_i\\right)^2 + \\alpha \\sum(a_1^2 + \\ldots + a_n^2)$$\n",
    "\n",
    "Este es llamado Ridge.\n",
    "\n",
    "\n"
   ]
  },
  {
   "cell_type": "code",
   "execution_count": 10,
   "metadata": {},
   "outputs": [
    {
     "name": "stdout",
     "output_type": "stream",
     "text": [
      "34461.678180100265 0.0009765625\n",
      "34461.65919907181 0.001953125\n",
      "34461.6212424607 0.00390625\n",
      "34461.545351014065 0.0078125\n",
      "34461.39365516013 0.015625\n",
      "34461.09061110927 0.03125\n",
      "34460.48590964141 0.0625\n",
      "34459.28202148067 0.125\n",
      "34456.89605317226 0.25\n",
      "34452.209386845054 0.5\n",
      "34443.16215814913 1\n",
      "34426.2627763831 2\n",
      "34396.510449337984 4\n",
      "34348.95102038735 8\n",
      "34282.42188337413 16\n",
      "34202.482052117935 32\n",
      "34125.16701255966 64\n",
      "34099.00768052047 128\n",
      "34245.40793649032 256\n",
      "34744.59023643727 512\n"
     ]
    }
   ],
   "source": [
    "from sklearn.linear_model import Ridge\n",
    "\n",
    "for i in range(-10, 10):\n",
    "    alpha = 2**i\n",
    "    ridge_reg = Ridge(alpha=alpha)\n",
    "    ridge_reg.fit(X_train, y_train)\n",
    "    y_dev_hat = ridge_reg.predict(X_dev)\n",
    "    print(np.sqrt(mean_squared_error(y_dev, y_dev_hat)), alpha)"
   ]
  },
  {
   "cell_type": "markdown",
   "metadata": {},
   "source": [
    "¿Cuál es entonces el mejor modelo?"
   ]
  },
  {
   "cell_type": "markdown",
   "metadata": {},
   "source": [
    "## Lasso Regression (l1 regularización)\n",
    "\n",
    "En este caso la función objetivo es:\n",
    "\n",
    "$$l(\\hat{Y}) = \\frac{1}{N}\\sum_i^N \\left(y_i - \\hat{y}_i\\right)^2 + \\alpha \\sum(|a_1| + \\ldots + |a_n|)$$\n",
    "\n",
    "Este es llamado Lasso."
   ]
  },
  {
   "cell_type": "code",
   "execution_count": 11,
   "metadata": {},
   "outputs": [
    {
     "name": "stdout",
     "output_type": "stream",
     "text": [
      "34461.69542173473 0.0009765625\n",
      "34461.69368052823 0.001953125\n",
      "34461.6901981263 0.00390625\n",
      "34461.683233412696 0.0078125\n",
      "34461.66930413723 0.015625\n",
      "34461.64144640941 0.03125\n",
      "34461.58573441035 0.0625\n",
      "34461.47432458774 0.125\n",
      "34461.2515619947 0.25\n",
      "34460.80626696905 0.5\n",
      "34459.91658585277 1\n",
      "34458.14084437147 2\n",
      "34454.60385885485 4\n",
      "34447.587976514675 8\n",
      "34433.78811793976 16\n",
      "34407.119962130426 32\n",
      "34357.519619665545 64\n",
      "34288.09525971574 128\n",
      "34229.02126168853 256\n",
      "34270.67818181146 512\n"
     ]
    }
   ],
   "source": [
    "from sklearn.linear_model import Lasso\n",
    "\n",
    "for i in range(-10, 10):\n",
    "    alpha = 2**i\n",
    "    lasso_reg = Lasso(alpha=alpha)\n",
    "    lasso_reg.fit(X_train, y_train)\n",
    "    y_dev_hat = lasso_reg.predict(X_dev)\n",
    "    print(np.sqrt(mean_squared_error(y_dev, y_dev_hat)), alpha)"
   ]
  },
  {
   "cell_type": "markdown",
   "metadata": {},
   "source": [
    "¿Cuál es el mejor modelo?\n"
   ]
  },
  {
   "cell_type": "markdown",
   "metadata": {},
   "source": [
    "### Interpretación de los coeficientes en Lasso\n",
    "\n",
    "En Lasso hay un interesante efecto en anular bastantes coeficientes\n",
    "cuando aplicamos regularización. Veamos un ejemplo para $\\alpha = 100000$"
   ]
  },
  {
   "cell_type": "code",
   "execution_count": 12,
   "metadata": {},
   "outputs": [
    {
     "data": {
      "text/plain": [
       "array([-3.17677896e+00, -5.19281675e+01,  1.81804546e-01,  0.00000000e+00,\n",
       "        0.00000000e+00,  4.60597162e+02,  3.74462039e+02,  1.25190335e+01,\n",
       "        0.00000000e+00, -0.00000000e+00,  2.42657167e+01,  0.00000000e+00,\n",
       "        0.00000000e+00,  0.00000000e+00,  6.60160074e+01,  0.00000000e+00,\n",
       "       -0.00000000e+00,  0.00000000e+00,  0.00000000e+00, -0.00000000e+00,\n",
       "       -0.00000000e+00,  0.00000000e+00,  0.00000000e+00,  0.00000000e+00,\n",
       "        6.00591708e+01,  3.89130770e+01, -0.00000000e+00,  0.00000000e+00,\n",
       "        0.00000000e+00,  6.20233278e+01, -1.61332470e+02, -5.81768963e+00,\n",
       "        0.00000000e+00, -0.00000000e+00])"
      ]
     },
     "execution_count": 12,
     "metadata": {},
     "output_type": "execute_result"
    }
   ],
   "source": [
    "lasso_reg = Lasso(alpha=100000)\n",
    "lasso_reg.fit(X_train, y_train)\n",
    "lasso_reg.coef_"
   ]
  },
  {
   "cell_type": "markdown",
   "metadata": {},
   "source": [
    "# Elastic Net: ambas regularizaciones al mismo timepo\n",
    "\n",
    "Hay un tercer tipo de regularización que trabaja muy bien que es la combinación de $l_2$ y $l_1$:\n",
    "\n",
    "\n",
    "$$l(\\hat{Y}) = \\frac{1}{N}\\sum_i^N \\left(y_i - \\hat{y}_i\\right)^2 + \n",
    "\\alpha_1 \\sum(|a_1| + \\ldots + |a_n|)+\n",
    "\\alpha_1 \\sum((a_1)^2 + \\ldots + (a_n)^2)\n",
    "$$\n",
    "\n",
    "El modelo lineal con esta función objetivo es a menudo llamdadoElastic Net. Esta tienes dos parámetros  `alpha` y `l1_ratio` y la relación entre ellos es la siguiente:\n",
    "\n",
    "$$\\alpha_1 = \\texttt{alpha}\\cdot\\texttt{l1_ratio}$$\n",
    "\n",
    "$$\\alpha_2 = \\texttt{alpha}\\cdot(\\texttt{1 - l1_ratio})$$\n",
    "\n",
    "Veamos en el ejemplo anterior:"
   ]
  },
  {
   "cell_type": "code",
   "execution_count": 13,
   "metadata": {},
   "outputs": [],
   "source": [
    "from sklearn.linear_model import ElasticNet\n",
    "import warnings\n",
    "warnings.filterwarnings(\"ignore\")\n",
    "alpha_ratio_score = []\n",
    "\n",
    "for i in range(-10, 10):\n",
    "    for j in range(20):\n",
    "        alpha = 2**i\n",
    "        l1_ratio = 0.6**j\n",
    "        en_reg = ElasticNet(alpha=alpha, l1_ratio=l1_ratio)\n",
    "        en_reg.fit(X_train, y_train)\n",
    "        y_dev_hat = en_reg.predict(X_dev)\n",
    "        alpha_ratio_score.append([alpha, l1_ratio, np.sqrt(mean_squared_error(y_dev, y_dev_hat)), alpha, l1_ratio])\n",
    "        \n",
    "scores = pd.DataFrame({\n",
    "    \"alpha\": [ars[0] for ars in alpha_ratio_score],\n",
    "    \"ratio\": [ars[1] for ars in alpha_ratio_score],\n",
    "    \"score\": [ars[2] for ars in alpha_ratio_score]\n",
    "})"
   ]
  },
  {
   "cell_type": "code",
   "execution_count": 36,
   "metadata": {
    "scrolled": true
   },
   "outputs": [
    {
     "data": {
      "text/html": [
       "<div>\n",
       "<style scoped>\n",
       "    .dataframe tbody tr th:only-of-type {\n",
       "        vertical-align: middle;\n",
       "    }\n",
       "\n",
       "    .dataframe tbody tr th {\n",
       "        vertical-align: top;\n",
       "    }\n",
       "\n",
       "    .dataframe thead th {\n",
       "        text-align: right;\n",
       "    }\n",
       "</style>\n",
       "<table border=\"1\" class=\"dataframe\">\n",
       "  <thead>\n",
       "    <tr style=\"text-align: right;\">\n",
       "      <th></th>\n",
       "      <th>alpha</th>\n",
       "      <th>ratio</th>\n",
       "      <th>score</th>\n",
       "    </tr>\n",
       "  </thead>\n",
       "  <tbody>\n",
       "    <tr>\n",
       "      <th>147</th>\n",
       "      <td>0.125</td>\n",
       "      <td>0.027994</td>\n",
       "      <td>34049.422441</td>\n",
       "    </tr>\n",
       "    <tr>\n",
       "      <th>148</th>\n",
       "      <td>0.125</td>\n",
       "      <td>0.016796</td>\n",
       "      <td>34049.445167</td>\n",
       "    </tr>\n",
       "    <tr>\n",
       "      <th>146</th>\n",
       "      <td>0.125</td>\n",
       "      <td>0.046656</td>\n",
       "      <td>34049.459889</td>\n",
       "    </tr>\n",
       "    <tr>\n",
       "      <th>149</th>\n",
       "      <td>0.125</td>\n",
       "      <td>0.010078</td>\n",
       "      <td>34049.474806</td>\n",
       "    </tr>\n",
       "    <tr>\n",
       "      <th>150</th>\n",
       "      <td>0.125</td>\n",
       "      <td>0.006047</td>\n",
       "      <td>34049.498295</td>\n",
       "    </tr>\n",
       "  </tbody>\n",
       "</table>\n",
       "</div>"
      ],
      "text/plain": [
       "     alpha     ratio         score\n",
       "147  0.125  0.027994  34049.422441\n",
       "148  0.125  0.016796  34049.445167\n",
       "146  0.125  0.046656  34049.459889\n",
       "149  0.125  0.010078  34049.474806\n",
       "150  0.125  0.006047  34049.498295"
      ]
     },
     "execution_count": 36,
     "metadata": {},
     "output_type": "execute_result"
    }
   ],
   "source": [
    "scores.sort_values('score').head()"
   ]
  },
  {
   "cell_type": "code",
   "execution_count": 40,
   "metadata": {
    "collapsed": true
   },
   "outputs": [],
   "source": [
    "##from sklearn.preprocessing import StandardScaler, MinMaxScaler\n",
    "##scaler = StandardScaler()\n",
    "#scaler = MinMaxScaler()\n",
    "##reg = LinearRegression()\n",
    "##scaler.fit(X_train)\n",
    "\n",
    "##X_train_scaled = scaler.transform(X_train)\n",
    "##X_dev_scaled = scaler.transform(X_dev)"
   ]
  }
 ],
 "metadata": {
  "kernelspec": {
   "display_name": "Python 3",
   "language": "python",
   "name": "python3"
  },
  "language_info": {
   "codemirror_mode": {
    "name": "ipython",
    "version": 3
   },
   "file_extension": ".py",
   "mimetype": "text/x-python",
   "name": "python",
   "nbconvert_exporter": "python",
   "pygments_lexer": "ipython3",
   "version": "3.7.1"
  }
 },
 "nbformat": 4,
 "nbformat_minor": 2
}
